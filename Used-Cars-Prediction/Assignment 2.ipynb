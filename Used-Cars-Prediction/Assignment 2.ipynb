{
 "cells": [
  {
   "cell_type": "code",
   "execution_count": 1,
   "metadata": {
    "collapsed": true
   },
   "outputs": [],
   "source": [
    "import pandas as pd\n",
    "\n",
    "import matplotlib.pyplot as plt\n",
    "import numpy as np\n",
    "from sklearn import datasets, linear_model, preprocessing, svm\n",
    "from sklearn.preprocessing import StandardScaler, Normalizer\n",
    "import math\n",
    "import matplotlib\n",
    "import seaborn as sns\n",
    "%matplotlib inline"
   ]
  },
  {
   "cell_type": "code",
   "execution_count": 2,
   "metadata": {
    "collapsed": true
   },
   "outputs": [],
   "source": [
    "def category_values(dataframe, categories):\n",
    "    for c in categories:\n",
    "        print('\\n', dataframe.groupby(by=c)[c].count().sort_values(ascending=False))\n",
    "        print('Nulls: ', dataframe[c].isnull().sum())\n",
    "\n",
    "def plot_correlation_map( df ):\n",
    "    corr = df.corr()\n",
    "    _ , ax = plt.subplots( figsize =( 12 , 10 ) )\n",
    "    cmap = sns.diverging_palette( 220 , 10 , as_cmap = True )\n",
    "    _ = sns.heatmap(\n",
    "        corr, \n",
    "        cmap = cmap,\n",
    "        square=True, \n",
    "        cbar_kws={ 'shrink' : .9 }, \n",
    "        ax=ax, \n",
    "        annot = True, \n",
    "        annot_kws = { 'fontsize' : 12 }\n",
    "    )"
   ]
  },
  {
   "cell_type": "code",
   "execution_count": 3,
   "metadata": {},
   "outputs": [
    {
     "data": {
      "text/html": [
       "<div>\n",
       "<style>\n",
       "    .dataframe thead tr:only-child th {\n",
       "        text-align: right;\n",
       "    }\n",
       "\n",
       "    .dataframe thead th {\n",
       "        text-align: left;\n",
       "    }\n",
       "\n",
       "    .dataframe tbody tr th {\n",
       "        vertical-align: top;\n",
       "    }\n",
       "</style>\n",
       "<table border=\"1\" class=\"dataframe\">\n",
       "  <thead>\n",
       "    <tr style=\"text-align: right;\">\n",
       "      <th></th>\n",
       "      <th>dateCrawled</th>\n",
       "      <th>name</th>\n",
       "      <th>seller</th>\n",
       "      <th>offerType</th>\n",
       "      <th>price</th>\n",
       "      <th>abtest</th>\n",
       "      <th>vehicleType</th>\n",
       "      <th>yearOfRegistration</th>\n",
       "      <th>gearbox</th>\n",
       "      <th>powerPS</th>\n",
       "      <th>model</th>\n",
       "      <th>kilometer</th>\n",
       "      <th>monthOfRegistration</th>\n",
       "      <th>fuelType</th>\n",
       "      <th>brand</th>\n",
       "      <th>notRepairedDamage</th>\n",
       "      <th>dateCreated</th>\n",
       "      <th>nrOfPictures</th>\n",
       "      <th>postalCode</th>\n",
       "      <th>lastSeen</th>\n",
       "    </tr>\n",
       "  </thead>\n",
       "  <tbody>\n",
       "    <tr>\n",
       "      <th>204058</th>\n",
       "      <td>2016-03-14 12:36:20</td>\n",
       "      <td>Verkaufe_Golf_6_tsi_highline_160ps</td>\n",
       "      <td>privat</td>\n",
       "      <td>Angebot</td>\n",
       "      <td>7000</td>\n",
       "      <td>test</td>\n",
       "      <td>NaN</td>\n",
       "      <td>2018</td>\n",
       "      <td>manuell</td>\n",
       "      <td>160</td>\n",
       "      <td>golf</td>\n",
       "      <td>150000</td>\n",
       "      <td>10</td>\n",
       "      <td>NaN</td>\n",
       "      <td>volkswagen</td>\n",
       "      <td>nein</td>\n",
       "      <td>2016-03-14 00:00:00</td>\n",
       "      <td>0</td>\n",
       "      <td>39122</td>\n",
       "      <td>2016-03-21 02:16:04</td>\n",
       "    </tr>\n",
       "  </tbody>\n",
       "</table>\n",
       "</div>"
      ],
      "text/plain": [
       "                dateCrawled                                name  seller  \\\n",
       "204058  2016-03-14 12:36:20  Verkaufe_Golf_6_tsi_highline_160ps  privat   \n",
       "\n",
       "       offerType  price abtest vehicleType  yearOfRegistration  gearbox  \\\n",
       "204058   Angebot   7000   test         NaN                2018  manuell   \n",
       "\n",
       "        powerPS model  kilometer  monthOfRegistration fuelType       brand  \\\n",
       "204058      160  golf     150000                   10      NaN  volkswagen   \n",
       "\n",
       "       notRepairedDamage          dateCreated  nrOfPictures  postalCode  \\\n",
       "204058              nein  2016-03-14 00:00:00             0       39122   \n",
       "\n",
       "                   lastSeen  \n",
       "204058  2016-03-21 02:16:04  "
      ]
     },
     "execution_count": 3,
     "metadata": {},
     "output_type": "execute_result"
    }
   ],
   "source": [
    "df = pd.read_csv('autos.csv', sep=',', header=0, encoding='cp1252')\n",
    "#df = pd.read_csv('autos.csv.gz', sep=',', header=0, compression='gzip',encoding='cp1252')\n",
    "df.sample(1)"
   ]
  },
  {
   "cell_type": "code",
   "execution_count": 4,
   "metadata": {
    "collapsed": true
   },
   "outputs": [],
   "source": [
    "df.drop(['seller', 'offerType', 'abtest', 'dateCrawled', 'nrOfPictures', 'lastSeen', 'postalCode', 'dateCreated', 'name'], axis='columns', inplace=True)\n"
   ]
  },
  {
   "cell_type": "code",
   "execution_count": 5,
   "metadata": {
    "collapsed": true
   },
   "outputs": [],
   "source": [
    "dedups = df.drop_duplicates(['price','vehicleType','yearOfRegistration'\n",
    "                         ,'gearbox','powerPS','model','kilometer','monthOfRegistration','fuelType'\n",
    "                         ,'notRepairedDamage'])"
   ]
  },
  {
   "cell_type": "code",
   "execution_count": 6,
   "metadata": {},
   "outputs": [
    {
     "data": {
      "text/plain": [
       "price                      0\n",
       "vehicleType            35088\n",
       "yearOfRegistration         0\n",
       "gearbox                17451\n",
       "powerPS                    0\n",
       "model                  18791\n",
       "kilometer                  0\n",
       "monthOfRegistration        0\n",
       "fuelType               31109\n",
       "brand                      0\n",
       "notRepairedDamage      66775\n",
       "dtype: int64"
      ]
     },
     "execution_count": 6,
     "metadata": {},
     "output_type": "execute_result"
    }
   ],
   "source": [
    "dedups.isnull().sum()"
   ]
  },
  {
   "cell_type": "code",
   "execution_count": 7,
   "metadata": {
    "collapsed": true
   },
   "outputs": [],
   "source": [
    "dedups = dedups[\n",
    "        (dedups.yearOfRegistration <= 2016) \n",
    "      & (dedups.yearOfRegistration >= 1950) \n",
    "      & (dedups.price >= 100) \n",
    "      & (dedups.price <= 150000) \n",
    "      & (dedups.powerPS >= 10) \n",
    "      & (dedups.powerPS <= 500)]"
   ]
  },
  {
   "cell_type": "code",
   "execution_count": 8,
   "metadata": {
    "collapsed": true
   },
   "outputs": [],
   "source": [
    "dedups['notRepairedDamage'].fillna(value='not-declared', inplace=True)\n",
    "dedups['fuelType'].fillna(value='not-declared', inplace=True)\n",
    "dedups['gearbox'].fillna(value='not-declared', inplace=True)\n",
    "dedups['vehicleType'].fillna(value='not-declared', inplace=True)\n",
    "dedups['model'].fillna(value='not-declared', inplace=True)"
   ]
  },
  {
   "cell_type": "code",
   "execution_count": 9,
   "metadata": {
    "scrolled": true
   },
   "outputs": [
    {
     "data": {
      "text/plain": [
       "price                  0\n",
       "vehicleType            0\n",
       "yearOfRegistration     0\n",
       "gearbox                0\n",
       "powerPS                0\n",
       "model                  0\n",
       "kilometer              0\n",
       "monthOfRegistration    0\n",
       "fuelType               0\n",
       "brand                  0\n",
       "notRepairedDamage      0\n",
       "dtype: int64"
      ]
     },
     "execution_count": 9,
     "metadata": {},
     "output_type": "execute_result"
    }
   ],
   "source": [
    "dedups.isnull().sum()"
   ]
  },
  {
   "cell_type": "code",
   "execution_count": 10,
   "metadata": {
    "collapsed": true
   },
   "outputs": [],
   "source": [
    "labels = ['gearbox', 'notRepairedDamage', 'model', 'brand', 'fuelType', 'vehicleType']\n",
    "les = {}\n",
    "\n",
    "for l in labels:\n",
    "    les[l] = preprocessing.LabelEncoder()\n",
    "    les[l].fit(dedups[l])\n",
    "    tr = les[l].transform(dedups[l]) \n",
    "    dedups.loc[:, l + '_feat'] = pd.Series(tr, index=dedups.index)\n",
    "\n",
    "labeled = dedups[ ['price'\n",
    "                        ,'yearOfRegistration'\n",
    "                        ,'powerPS'\n",
    "                        ,'kilometer'\n",
    "                        ,'monthOfRegistration'\n",
    "                        ] \n",
    "                    + [x+\"_feat\" for x in labels]]"
   ]
  },
  {
   "cell_type": "code",
   "execution_count": null,
   "metadata": {
    "collapsed": true
   },
   "outputs": [],
   "source": []
  },
  {
   "cell_type": "code",
   "execution_count": 11,
   "metadata": {
    "collapsed": true
   },
   "outputs": [],
   "source": [
    "# Linear Regression  Use One Hot Encoder   40 brand only"
   ]
  },
  {
   "cell_type": "code",
   "execution_count": 12,
   "metadata": {
    "collapsed": true
   },
   "outputs": [],
   "source": [
    "X_train = labeled.values\n",
    "list1 = [len(dedups['gearbox_feat'].unique()),\n",
    "len(dedups['notRepairedDamage_feat'].unique()),\n",
    "len(dedups['model_feat'].unique()),\n",
    "len(dedups['brand_feat'].unique()),\n",
    "len(dedups['fuelType_feat'].unique()),\n",
    "len(dedups['vehicleType_feat'].unique())]\n",
    "# Use numbers to represent brand and type \n",
    "X_tn = []\n",
    "for i in range(len(X_train)):\n",
    "    list1=[1]\n",
    "    for j in range(1,11):\n",
    "        list1.append(X_train[i][j])\n",
    "    X_tn.append(list1)\n",
    "\n",
    "# Use One Hot Encoder   40 brand only\n",
    "X_t = []\n",
    "for i in range(len(X_train)):\n",
    "    list1=[1]\n",
    "    for j in range(1,5):\n",
    "        list1.append(X_train[i][j])\n",
    "    list2=[0]*3\n",
    "    list2[X_train[i][5]]=1\n",
    "    list1.extend(list2)\n",
    "    list3=[0]*3\n",
    "    list3[X_train[i][6]]=1\n",
    "    list1.extend(list3)\n",
    "    list4=[0]*40\n",
    "    list4[X_train[i][8]]=1\n",
    "    list1.extend(list4)\n",
    "    list5=[0]*8\n",
    "    list5[X_train[i][9]]=1\n",
    "    list1.extend(list5)\n",
    "    list6=[0]*9\n",
    "    list6[X_train[i][10]]=1\n",
    "    list1.extend(list6)\n",
    "    X_t.append(list1)"
   ]
  },
  {
   "cell_type": "code",
   "execution_count": 13,
   "metadata": {
    "collapsed": true
   },
   "outputs": [],
   "source": [
    "Y_t = []\n",
    "for i in range(len(X_train)):\n",
    "    Y_t.append(X_train[i][0])"
   ]
  },
  {
   "cell_type": "code",
   "execution_count": 14,
   "metadata": {
    "collapsed": true
   },
   "outputs": [],
   "source": [
    "Xtrain = X_t[:(int)(len(X_t)/2)]\n",
    "Xtest = X_t[(int)(len(X_t)/2):]\n",
    "Ytrain = Y_t[:(int)(len(Y_t)/2)]\n",
    "Ytest = Y_t[(int)(len(Y_t)/2):]\n",
    "\n",
    "Xntrain = X_tn[:(int)(len(X_tn)/2)] # Only use numbers\n",
    "Xntest = X_tn[(int)(len(X_tn)/2):]"
   ]
  },
  {
   "cell_type": "code",
   "execution_count": 15,
   "metadata": {},
   "outputs": [
    {
     "name": "stdout",
     "output_type": "stream",
     "text": [
      "Train error = 22911234.499470744in Ridge Regression\n"
     ]
    }
   ],
   "source": [
    "model=linear_model.Ridge()\n",
    "model.fit(Xtrain,Ytrain)\n",
    "y_predict=model.predict(Xtrain)\n",
    "for i in range(len(y_predict)):\n",
    "    if y_predict[i] < 0:\n",
    "        y_predict[i] = 0\n",
    "\n",
    "error=0\n",
    "for i in range(len(Ytrain)):\n",
    "    error+=(Ytrain[i]-y_predict[i]) **2\n",
    "train_error_ridge=error/len(Ytrain)\n",
    "print(\"Train error = \"'{}'.format(train_error_ridge)+\"in Ridge Regression\") #brand only"
   ]
  },
  {
   "cell_type": "code",
   "execution_count": null,
   "metadata": {
    "collapsed": true
   },
   "outputs": [],
   "source": []
  },
  {
   "cell_type": "code",
   "execution_count": 16,
   "metadata": {
    "collapsed": true
   },
   "outputs": [],
   "source": [
    "# Linear Regression    Use model and brand"
   ]
  },
  {
   "cell_type": "code",
   "execution_count": 17,
   "metadata": {
    "collapsed": true
   },
   "outputs": [],
   "source": [
    "arr = dedups.values\n",
    "l=[]\n",
    "for i in range(len(arr)):\n",
    "    l.append(arr[i][9]+'_'+arr[i][5])\n",
    "ll = []\n",
    "num = 0\n",
    "for i in l:\n",
    "    if i not in ll:\n",
    "        ll.append(i)\n",
    "        num += 1\n",
    "#different value : 337\n",
    "X_t = []\n",
    "for i in range(len(X_train)):\n",
    "    list1=[1]\n",
    "    for j in range(1,5):\n",
    "        list1.append(X_train[i][j])\n",
    "    list2=[0]*3\n",
    "    list2[X_train[i][5]]=1\n",
    "    list1.extend(list2)\n",
    "    list3=[0]*3\n",
    "    list3[X_train[i][6]]=1\n",
    "    list1.extend(list3)\n",
    "    list4=[0]*337\n",
    "    list4[ll.index(arr[i][9]+'_'+arr[i][5])]=1\n",
    "    list1.extend(list4)\n",
    "    list5=[0]*8\n",
    "    list5[X_train[i][9]]=1\n",
    "    list1.extend(list5)\n",
    "    list6=[0]*9\n",
    "    list6[X_train[i][10]]=1\n",
    "    list1.extend(list6)\n",
    "    X_t.append(list1)"
   ]
  },
  {
   "cell_type": "code",
   "execution_count": 18,
   "metadata": {
    "collapsed": true
   },
   "outputs": [],
   "source": [
    "Xtrain = X_t[:(int)(len(X_t)/2)]\n",
    "Xtest = X_t[(int)(len(X_t)/2):]"
   ]
  },
  {
   "cell_type": "code",
   "execution_count": null,
   "metadata": {},
   "outputs": [
    {
     "name": "stdout",
     "output_type": "stream",
     "text": [
      "Train error = 19576077.922257043in Ridge Regression\n"
     ]
    }
   ],
   "source": [
    "model=linear_model.Ridge()\n",
    "model.fit(Xtrain,Ytrain)\n",
    "y_predict=model.predict(Xtrain)\n",
    "for i in range(len(y_predict)):\n",
    "    if y_predict[i] < 0:\n",
    "        y_predict[i] = 0\n",
    "\n",
    "error=0\n",
    "for i in range(len(Ytrain)):\n",
    "    error+=(Ytrain[i]-y_predict[i]) **2\n",
    "train_error_ridge=(error/len(Ytrain))\n",
    "print(\"Train error = \"'{}'.format(train_error_ridge)+\"in Ridge Regression\")  #Use model and brand\n"
   ]
  },
  {
   "cell_type": "code",
   "execution_count": null,
   "metadata": {},
   "outputs": [],
   "source": [
    "# two degree\n",
    "from sklearn.preprocessing import PolynomialFeatures\n",
    "from sklearn.linear_model import LinearRegression\n",
    "poly = PolynomialFeatures(degree = 2)\n",
    "regr = linear_model.LinearRegression()\n",
    "X_ = poly.fit_transform(Xtrain)\n",
    "regr.fit(X_, Ytrain)\n",
    "\n",
    "\n",
    "result = regr.predict(X_)\n",
    "print(\"MSE =\", metrics.mean_squared_error(result, Ytrain))"
   ]
  },
  {
   "cell_type": "code",
   "execution_count": null,
   "metadata": {
    "collapsed": true
   },
   "outputs": [],
   "source": []
  },
  {
   "cell_type": "code",
   "execution_count": 20,
   "metadata": {
    "collapsed": true
   },
   "outputs": [],
   "source": [
    "# Linear Regression  Use numpy"
   ]
  },
  {
   "cell_type": "code",
   "execution_count": 21,
   "metadata": {},
   "outputs": [
    {
     "name": "stdout",
     "output_type": "stream",
     "text": [
      "Train error = 19573228.052974954in Ridge Regression\n"
     ]
    }
   ],
   "source": [
    "import numpy\n",
    "theta,residuals,rank,s = numpy.linalg.lstsq(Xtrain, Ytrain)\n",
    "y_predict = (numpy.matrix(theta) * numpy.matrix(Xtrain).T).tolist()[0]\n",
    "\n",
    "for i in range(len(y_predict)):\n",
    "    if y_predict[i] < 0:\n",
    "        y_predict[i] = 0\n",
    "\n",
    "error=0\n",
    "for i in range(len(Ytrain)):\n",
    "    error+=(Ytrain[i]-y_predict[i]) **2\n",
    "train_error_ridge=(error/len(Ytrain))\n",
    "print(\"Train error = \"'{}'.format(train_error_ridge)+\"in Ridge Regression\")  #Use numpy"
   ]
  },
  {
   "cell_type": "code",
   "execution_count": null,
   "metadata": {
    "collapsed": true
   },
   "outputs": [],
   "source": []
  },
  {
   "cell_type": "code",
   "execution_count": null,
   "metadata": {
    "collapsed": true
   },
   "outputs": [],
   "source": [
    "# Random Forest Regressor"
   ]
  },
  {
   "cell_type": "code",
   "execution_count": null,
   "metadata": {},
   "outputs": [
    {
     "name": "stdout",
     "output_type": "stream",
     "text": [
      "Fitting 2 folds for each of 1 candidates, totalling 2 fits\n"
     ]
    }
   ],
   "source": [
    "from sklearn.ensemble import RandomForestRegressor\n",
    "from sklearn.model_selection import GridSearchCV\n",
    "\n",
    "rf = RandomForestRegressor()\n",
    "\n",
    "param_grid = { \"criterion\" : [\"mse\"]\n",
    "              , \"min_samples_leaf\" : [3]\n",
    "              , \"min_samples_split\" : [3]\n",
    "              , \"max_depth\": [10]\n",
    "              , \"n_estimators\": [500]}\n",
    "\n",
    "gs = GridSearchCV(estimator=rf, param_grid=param_grid, cv=2, n_jobs=-1, verbose=1)\n",
    "gs = gs.fit(Xtrain, Ytrain)"
   ]
  },
  {
   "cell_type": "code",
   "execution_count": 210,
   "metadata": {},
   "outputs": [
    {
     "name": "stdout",
     "output_type": "stream",
     "text": [
      "0.818093620625\n",
      "{'criterion': 'mse', 'max_depth': 10, 'min_samples_leaf': 3, 'min_samples_split': 3, 'n_estimators': 500}\n"
     ]
    }
   ],
   "source": [
    "print(gs.best_score_)\n",
    "print(gs.best_params_)"
   ]
  },
  {
   "cell_type": "code",
   "execution_count": 229,
   "metadata": {
    "collapsed": true
   },
   "outputs": [],
   "source": [
    "y_predict = gs.predict(Xtrain)\n",
    "for i in range(len(y_predict)):\n",
    "    if y_predict[i] < 0:\n",
    "        y_predict[i] = 0\n",
    "\n",
    "error=0\n",
    "for i in range(len(Ytrain)):\n",
    "    error+=(Ytrain[i]-y_predict[i]) **2\n",
    "train_error_ridge=(error/len(Ytrain))\n",
    "print(\"Train error = \"'{}'.format(train_error_ridge)+\"in Ridge Regression\")  #Use Random Forest Regressor"
   ]
  },
  {
   "cell_type": "code",
   "execution_count": null,
   "metadata": {
    "collapsed": true
   },
   "outputs": [],
   "source": []
  },
  {
   "cell_type": "code",
   "execution_count": null,
   "metadata": {
    "collapsed": true
   },
   "outputs": [],
   "source": [
    "# Decision Tree"
   ]
  },
  {
   "cell_type": "code",
   "execution_count": null,
   "metadata": {
    "collapsed": true
   },
   "outputs": [],
   "source": [
    "import os\n",
    "import pandas as pd\n",
    "from pandas import DataFrame,Series\n",
    "from sklearn import tree\n",
    "import matplotlib\n",
    "import numpy as np\n",
    "import matplotlib.pyplot as plt\n",
    "from sklearn import svm\n",
    "from sklearn.preprocessing import StandardScaler\n",
    "import statsmodels.formula.api as smf\n",
    "import statsmodels.api as sm\n",
    "from mpl_toolkits.mplot3d import Axes3D\n",
    "import seaborn as sns\n",
    "from sklearn import neighbors\n",
    "from sklearn import linear_model\n",
    "%matplotlib inline\n",
    "dec = tree.DecisionTreeRegressor(max_depth=5)\n",
    "dec.fit(Xtrain,Ytrain)\n",
    "y1_dec=dec.predict(Xtrain)\n",
    "y2_dec=dec.predict(Xtest)\n"
   ]
  },
  {
   "cell_type": "code",
   "execution_count": 284,
   "metadata": {},
   "outputs": [
    {
     "name": "stdout",
     "output_type": "stream",
     "text": [
      "Train error = 2100806.855459263in Ridge Regression\n"
     ]
    }
   ],
   "source": [
    "for i in range(len(y1_dec)):\n",
    "    if y1_dec[i] < 0:\n",
    "        y1_dec[i] = 0\n",
    "\n",
    "error=0\n",
    "for i in range(len(Ytrain)):\n",
    "    error+=(Ytrain[i]-y1_dec[i]) **2\n",
    "train_error_ridge=(error/len(Ytrain))\n",
    "print(\"Train error = \"'{}'.format(train_error_ridge)+\"in Ridge Regression\")"
   ]
  },
  {
   "cell_type": "code",
   "execution_count": 285,
   "metadata": {},
   "outputs": [
    {
     "name": "stdout",
     "output_type": "stream",
     "text": [
      "Train error = 128776383.41185793in Ridge Regression\n"
     ]
    }
   ],
   "source": [
    "for i in range(len(y2_dec)):\n",
    "    if y2_dec[i] < 0:\n",
    "        y2_dec[i] = 0\n",
    "\n",
    "error=0\n",
    "for i in range(len(Ytrain)):\n",
    "    error+=(Ytrain[i]-y2_dec[i]) **2\n",
    "train_error_ridge=(error/len(Ytrain))\n",
    "print(\"Train error = \"'{}'.format(train_error_ridge)+\"in Ridge Regression\")"
   ]
  },
  {
   "cell_type": "code",
   "execution_count": 260,
   "metadata": {},
   "outputs": [
    {
     "data": {
      "text/plain": [
       "<matplotlib.text.Text at 0x1a51a855f8>"
      ]
     },
     "execution_count": 260,
     "metadata": {},
     "output_type": "execute_result"
    },
    {
     "data": {
      "image/png": "[encoded data removed]",
      "text/plain": [
       "<matplotlib.figure.Figure at 0x1a51932550>"
      ]
     },
     "metadata": {},
     "output_type": "display_data"
    }
   ],
   "source": [
    "matplotlib.rcParams['figure.figsize'] = (6.0, 6.0)\n",
    "preds = pd.DataFrame({\"preds\":dec.predict(Xtrain), \"true\":Ytrain})\n",
    "preds[\"residuals\"] = preds[\"true\"] - preds[\"preds\"]\n",
    "preds.plot(x = \"preds\", y = \"residuals\",kind = \"scatter\")\n",
    "plt.title(\"Residual plot in Decision Tree\")"
   ]
  },
  {
   "cell_type": "code",
   "execution_count": null,
   "metadata": {
    "collapsed": true
   },
   "outputs": [],
   "source": []
  },
  {
   "cell_type": "code",
   "execution_count": null,
   "metadata": {
    "collapsed": true
   },
   "outputs": [],
   "source": [
    "# SVM"
   ]
  },
  {
   "cell_type": "code",
   "execution_count": null,
   "metadata": {
    "collapsed": true
   },
   "outputs": [],
   "source": [
    "svm_reg=svm.SVR()\n",
    "svm_reg.fit(Xtrain,Ytrain)\n",
    "y1_svm=svm_reg.predict(Xtrain)\n",
    "y1_svm=list(y1_svm)\n",
    "y2_svm=svm_reg.predict(Xtest)\n",
    "y2_svm=list(y2_svm)\n",
    "for i in range(len(y1_svm)):\n",
    "    if y1_svm[i] < 0:\n",
    "        y1_svm[i] = 0\n",
    "\n",
    "error=0\n",
    "for i in range(len(Ytrain)):\n",
    "    error+=(Ytrain[i]-y1_svm[i]) **2\n",
    "train_error_ridge=(error/len(Ytrain))\n",
    "print(\"Train error = \"'{}'.format(train_error_ridge)+\"in Ridge Regression\")\n",
    "\n",
    "for i in range(len(y2_svm)):\n",
    "    if y2_svm[i] < 0:\n",
    "        y2_svm[i] = 0\n",
    "\n",
    "error=0\n",
    "for i in range(len(Ytrain)):\n",
    "    error+=(Ytrain[i]-y2_svm[i]) **2\n",
    "train_error_ridge=(error/len(Ytrain))\n",
    "print(\"Train error = \"'{}'.format(train_error_ridge)+\"in Ridge Regression\")"
   ]
  },
  {
   "cell_type": "code",
   "execution_count": null,
   "metadata": {
    "collapsed": true
   },
   "outputs": [],
   "source": [
    "MSE=0\n",
    "for i in range(len(Ytrain)):\n",
    "    MSE+=(Ytrain[i]-y1_svm[i]) **2\n",
    "MSE=(MSE/len(Ytrain))\n",
    "print(\"MSE = \"'{}'.format(train_error_ridge)+\"in SVM\")"
   ]
  },
  {
   "cell_type": "code",
   "execution_count": null,
   "metadata": {
    "collapsed": true
   },
   "outputs": [],
   "source": []
  },
  {
   "cell_type": "code",
   "execution_count": null,
   "metadata": {
    "collapsed": true
   },
   "outputs": [],
   "source": [
    "# KNN"
   ]
  },
  {
   "cell_type": "code",
   "execution_count": null,
   "metadata": {
    "collapsed": true
   },
   "outputs": [],
   "source": [
    "import sklearn.metrics\n",
    "from sklearn import neighbors\n",
    "n_neighbors=5\n",
    "knn=neighbors.KNeighborsRegressor(n_neighbors,weights='uniform')\n",
    "knn.fit(Xtrain,Ytrain)\n",
    "y1_knn=knn.predict(Xtrain)\n",
    "y1_knn=list(y1_knn)"
   ]
  },
  {
   "cell_type": "code",
   "execution_count": null,
   "metadata": {
    "collapsed": true
   },
   "outputs": [],
   "source": [
    "error=0\n",
    "for i in range(len(Ytrain)):\n",
    "    error+=(abs(Ytrain[i]-y1_knn[i]))**2\n",
    "train_error_ridge=error/len(Ytrain)\n",
    "print(\"Train error = \"'{}'.format(train_error_ridge)+\" percent in Ridge Regression\")\n",
    "r_squared = sklearn.metrics.r2_score(Ytrain, y1_knn)\n",
    "r_squared"
   ]
  },
  {
   "cell_type": "code",
   "execution_count": null,
   "metadata": {
    "collapsed": true
   },
   "outputs": [],
   "source": [
    "y1_knn=knn.predict(Xtest)\n",
    "y1_knn=list(y1_knn)\n",
    "error=0\n",
    "for i in range(len(Ytest)):\n",
    "    error+=(abs(Ytest[i]-y1_knn[i]))**2\n",
    "train_error_ridge=error/len(Ytest)\n",
    "print(\"Train error = \"'{}'.format(train_error_ridge)+\" percent in Ridge Regression\")\n",
    "r_squared = sklearn.metrics.r2_score(Ytest, y1_knn)\n",
    "r_squared"
   ]
  },
  {
   "cell_type": "code",
   "execution_count": null,
   "metadata": {
    "collapsed": true
   },
   "outputs": [],
   "source": []
  },
  {
   "cell_type": "code",
   "execution_count": null,
   "metadata": {
    "collapsed": true
   },
   "outputs": [],
   "source": [
    "# Encode Parameter     (power, kilometer, year)"
   ]
  },
  {
   "cell_type": "code",
   "execution_count": 24,
   "metadata": {},
   "outputs": [],
   "source": [
    "temp = dedups"
   ]
  },
  {
   "cell_type": "code",
   "execution_count": 28,
   "metadata": {},
   "outputs": [],
   "source": [
    "tarray = temp.values"
   ]
  },
  {
   "cell_type": "code",
   "execution_count": 35,
   "metadata": {},
   "outputs": [],
   "source": [
    "for i in range(len(tarray)):\n",
    "    tarray[i][2] = 2017 - tarray[i][2]"
   ]
  },
  {
   "cell_type": "code",
   "execution_count": 59,
   "metadata": {},
   "outputs": [
    {
     "data": {
      "text/plain": [
       "array([18300, 'coupe', 6, 'manuell', 190, 'not-declared', 125000, 5,\n",
       "       'diesel', 'audi', 'ja', 1, 0, 163, 1, 3, 3], dtype=object)"
      ]
     },
     "execution_count": 59,
     "metadata": {},
     "output_type": "execute_result"
    }
   ],
   "source": [
    "tarray[0]"
   ]
  },
  {
   "cell_type": "code",
   "execution_count": 122,
   "metadata": {
    "collapsed": true
   },
   "outputs": [],
   "source": [
    "labels = ['gearbox', 'notRepairedDamage', 'model', 'brand', 'fuelType', 'vehicleType']\n",
    "les = {}\n",
    "\n",
    "for l in labels:\n",
    "    les[l] = preprocessing.LabelEncoder()\n",
    "    les[l].fit(dedups[l])\n",
    "    tr = les[l].transform(dedups[l]) \n",
    "    dedups.loc[:, l + '_feat'] = pd.Series(tr, index=dedups.index)\n",
    "\n",
    "labeled = dedups[ ['price'\n",
    "                        ,'yearOfRegistration'\n",
    "                        ,'powerPS'\n",
    "                        ,'kilometer'\n",
    "                        ,'monthOfRegistration'\n",
    "                        ] \n",
    "                    + [x+\"_feat\" for x in labels]]"
   ]
  },
  {
   "cell_type": "code",
   "execution_count": 123,
   "metadata": {
    "collapsed": true
   },
   "outputs": [],
   "source": [
    "lable = labeled.values"
   ]
  },
  {
   "cell_type": "code",
   "execution_count": 126,
   "metadata": {},
   "outputs": [
    {
     "data": {
      "text/plain": [
       "array([18300,     6,   190,    25,     5,     1,     0,   163,     1,\n",
       "           3,     3])"
      ]
     },
     "execution_count": 126,
     "metadata": {},
     "output_type": "execute_result"
    }
   ],
   "source": [
    "lable[0]"
   ]
  },
  {
   "cell_type": "code",
   "execution_count": 125,
   "metadata": {},
   "outputs": [],
   "source": [
    "for i in range(len(lable)):\n",
    "    lable[i][1] = 2017 - lable[i][1]\n",
    "    lable[i][3] = (lable[i][3]*1.0)/5000"
   ]
  },
  {
   "cell_type": "code",
   "execution_count": 128,
   "metadata": {},
   "outputs": [],
   "source": [
    "l=[]\n",
    "for i in range(len(tarray)):\n",
    "    l.append(tarray[i][9]+'_'+tarray[i][5])\n",
    "ll = []\n",
    "num = 0\n",
    "for i in l:\n",
    "    if i not in ll:\n",
    "        ll.append(i)\n",
    "        num += 1\n",
    "#different value : 337\n",
    "X_t = []\n",
    "for i in range(len(lable)):\n",
    "    list1=[1]\n",
    "    for j in range(1,5):\n",
    "        if j == 2:\n",
    "            list1.append(lable[i][j] * 1.0/500)\n",
    "        else:\n",
    "            list1.append(lable[i][j])\n",
    "        \n",
    "    list2=[0]*3\n",
    "    list2[lable[i][5]]=1\n",
    "    list1.extend(list2)\n",
    "    list3=[0]*3\n",
    "    list3[lable[i][6]]=1\n",
    "    list1.extend(list3)\n",
    "    list4=[0]*337\n",
    "    list4[ll.index(tarray[i][9]+'_'+tarray[i][5])]=1\n",
    "    list1.extend(list4)\n",
    "    list5=[0]*8\n",
    "    list5[lable[i][9]]=1\n",
    "    list1.extend(list5)\n",
    "    list6=[0]*9\n",
    "    list6[lable[i][10]]=1\n",
    "    list1.extend(list6)\n",
    "    X_t.append(list1)"
   ]
  },
  {
   "cell_type": "code",
   "execution_count": 129,
   "metadata": {},
   "outputs": [],
   "source": [
    "Xtrain = X_t[:(int)(len(X_t)/2)]\n",
    "Xtest = X_t[(int)(len(X_t)/2):]"
   ]
  },
  {
   "cell_type": "code",
   "execution_count": 132,
   "metadata": {},
   "outputs": [
    {
     "name": "stdout",
     "output_type": "stream",
     "text": [
      "Train error = 19576296.883333508in Ridge Regression\n"
     ]
    }
   ],
   "source": [
    "model=linear_model.Ridge()\n",
    "model.fit(Xtrain,Ytrain)\n",
    "y_predict=model.predict(Xtrain)\n",
    "for i in range(len(y_predict)):\n",
    "    if y_predict[i] < 0:\n",
    "        y_predict[i] = 0\n",
    "\n",
    "error=0\n",
    "for i in range(len(Ytrain)):\n",
    "    error+=(Ytrain[i]-y_predict[i]) **2\n",
    "train_error_ridge=(error/len(Ytrain))\n",
    "print(\"Train error = \"'{}'.format(train_error_ridge)+\"in Ridge Regression\")  #Use model and brand"
   ]
  },
  {
   "cell_type": "code",
   "execution_count": 134,
   "metadata": {},
   "outputs": [
    {
     "name": "stdout",
     "output_type": "stream",
     "text": [
      "Train error = 2430.200117111016in Ridge Regression\n"
     ]
    }
   ],
   "source": [
    "y_predict=model.predict(Xtest)\n",
    "for i in range(len(y_predict)):\n",
    "    if y_predict[i] < 0:\n",
    "        y_predict[i] = 0\n",
    "error=0\n",
    "for i in range(len(Ytest)):\n",
    "    error+=abs(Ytest[i]-y_predict[i])\n",
    "train_error_ridge=(error/len(Ytest))\n",
    "print(\"Train error = \"'{}'.format(train_error_ridge)+\"in Ridge Regression\")  #Use model and brand"
   ]
  },
  {
   "cell_type": "code",
   "execution_count": null,
   "metadata": {
    "collapsed": true
   },
   "outputs": [],
   "source": []
  },
  {
   "cell_type": "code",
   "execution_count": null,
   "metadata": {
    "collapsed": true
   },
   "outputs": [],
   "source": [
    "# Bayes  model"
   ]
  },
  {
   "cell_type": "code",
   "execution_count": null,
   "metadata": {
    "collapsed": true
   },
   "outputs": [],
   "source": [
    "reg = linear_model.BayesianRidge()\n",
    "reg.fit(Xtrain,Ytrain)\n",
    "train_pre=reg.predict(Xtrain)\n",
    "train_pre=list(train_pre)\n",
    "test_pre=reg.predict(Xtest)\n",
    "test_pre=list(test_pre)\n",
    "\n",
    "\n",
    "\n",
    "\n",
    "for i in range(len(train_pre)):\n",
    "    if train_pre[i] < 0:\n",
    "        train_pre[i] = 0\n",
    "\n",
    "error=0\n",
    "for i in range(len(Ytrain)):\n",
    "    error+=abs(Ytrain[i]-train_pre[i])\n",
    "train_error=(error/len(Ytrain))\n",
    "print(\"Train error = \"'{}'.format(train_error)+\"in Bayesian\")\n",
    "\n",
    "\n",
    "\n",
    "\n",
    "for i in range(len(test_pre)):\n",
    "    if test_pre[i] < 0:\n",
    "        test_pre[i] = 0\n",
    "\n",
    "error=0\n",
    "for i in range(len(Ytest)):\n",
    "    error+=abs(Ytest[i]-test_pre[i])\n",
    "test_error=(error/len(Ytest))\n",
    "print(\"Test error = \"'{}'.format(test_error)+\"in Bayesian\")\n",
    "\n",
    "\n"
   ]
  },
  {
   "cell_type": "code",
   "execution_count": null,
   "metadata": {
    "collapsed": true
   },
   "outputs": [],
   "source": []
  },
  {
   "cell_type": "code",
   "execution_count": null,
   "metadata": {
    "collapsed": true
   },
   "outputs": [],
   "source": []
  },
  {
   "cell_type": "code",
   "execution_count": null,
   "metadata": {
    "collapsed": true
   },
   "outputs": [],
   "source": []
  },
  {
   "cell_type": "code",
   "execution_count": null,
   "metadata": {
    "collapsed": true
   },
   "outputs": [],
   "source": []
  },
  {
   "cell_type": "code",
   "execution_count": null,
   "metadata": {
    "collapsed": true
   },
   "outputs": [],
   "source": []
  },
  {
   "cell_type": "code",
   "execution_count": null,
   "metadata": {
    "collapsed": true
   },
   "outputs": [],
   "source": []
  },
  {
   "cell_type": "code",
   "execution_count": null,
   "metadata": {
    "collapsed": true
   },
   "outputs": [],
   "source": [
    "19576077.922257043"
   ]
  }
 ],
 "metadata": {
  "kernelspec": {
   "display_name": "Python 3",
   "language": "python",
   "name": "python3"
  },
  "language_info": {
   "codemirror_mode": {
    "name": "ipython",
    "version": 3
   },
   "file_extension": ".py",
   "mimetype": "text/x-python",
   "name": "python",
   "nbconvert_exporter": "python",
   "pygments_lexer": "ipython3",
   "version": "3.6.2"
  }
 },
 "nbformat": 4,
 "nbformat_minor": 2
}
